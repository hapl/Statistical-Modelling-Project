{
 "cells": [
  {
   "cell_type": "code",
   "execution_count": 1,
   "metadata": {
    "tags": []
   },
   "outputs": [],
   "source": [
    "#Defining packages to use\n",
    "import requests as rq\n",
    "import pandas as pd\n",
    "import json\n",
    "from IPython.display import JSON \n",
    "import os\n",
    "import matplotlib\n",
    "import seaborn\n",
    "\n",
    "##Import csv qith city bike data\n",
    "city_bike_data = pd.read_csv('cityBikeData.csv')"
   ]
  },
  {
   "cell_type": "markdown",
   "metadata": {},
   "source": [
    "# Foursquare"
   ]
  },
  {
   "cell_type": "markdown",
   "metadata": {},
   "source": [
    "Send a request to Foursquare with a small radius (1000m) for all the bike stations in your city of choice. "
   ]
  },
  {
   "cell_type": "code",
   "execution_count": 2,
   "metadata": {
    "tags": []
   },
   "outputs": [],
   "source": [
    "#Get Foursquare API key\n",
    "api_key_foursquare = os.environ[\"FOURSQUARE_API_KEY\"]\n",
    "#Set headers for URL\n",
    "headers_fsq = { \"accept\": \"application/json\",\n",
    "            \"Authorization\": api_key_foursquare}"
   ]
  },
  {
   "cell_type": "code",
   "execution_count": 22,
   "metadata": {
    "tags": []
   },
   "outputs": [],
   "source": [
    "#Function to get data from Foursquare\n",
    "def get_foursquare_data(data,headers):\n",
    "    \n",
    "    foursquare_data =[]\n",
    "    for i,r in data[:50].iterrows():\n",
    "        \n",
    "        #Concatenate latitude and longitude to get the parameter ll for the API\n",
    "        lt = r['latitude']\n",
    "        lg = r['longitude']\n",
    "       # print(ll)\n",
    "        #URL to call places in a radius of 1000m and category 13000 that is dinning and drinking places\n",
    "        url = f\"https://api.foursquare.com/v3/places/search?radius=1000&categories=13000&ll={lt},{lg}\"\n",
    "        #get results in json\n",
    "        results_json       = rq.request('GET',url, headers = headers)\n",
    "        foursquare_results = results_json.json()\n",
    "  \n",
    "        \n",
    "       #Get results in json\n",
    "      # foursquare_json    = foursquare_results.json()\n",
    "        for row in foursquare_results['results']:\n",
    "           #the json tag for results is called results\n",
    "           foursquare_data.append({\n",
    "               'fsq_id'    :row['fsq_id'],\n",
    "               'bk_station_distance' :row['distance'],\n",
    "               'latitude'  :row['geocodes']['main']['latitude'],\n",
    "               'longitude' :row['geocodes']['main']['longitude'],\n",
    "               'name'      :row['name'],\n",
    "               'category_name':row['categories'][0]['name'],\n",
    "               'bk_station_uid': r['uid']\n",
    "           }) \n",
    "        data_fsq = pd.DataFrame(foursquare_data)\n",
    "     \n",
    "    return data_fsq"
   ]
  },
  {
   "cell_type": "markdown",
   "metadata": {},
   "source": [
    "Parse through the response to get the POI (such as restaurants, bars, etc) details you want (ratings, name, location, etc)"
   ]
  },
  {
   "cell_type": "code",
   "execution_count": 15,
   "metadata": {},
   "outputs": [],
   "source": [
    "# Call function to process CSV\n",
    "df_foursquare = get_foursquare_data(city_bike_data,headers_fsq)\n",
    "df_foursquare.to_csv('foursquare_data.csv',index = False, sep= ',')"
   ]
  },
  {
   "cell_type": "markdown",
   "metadata": {},
   "source": [
    "Put your parsed results into a DataFrame"
   ]
  },
  {
   "cell_type": "code",
   "execution_count": 16,
   "metadata": {},
   "outputs": [
    {
     "data": {
      "text/html": [
       "<div>\n",
       "<style scoped>\n",
       "    .dataframe tbody tr th:only-of-type {\n",
       "        vertical-align: middle;\n",
       "    }\n",
       "\n",
       "    .dataframe tbody tr th {\n",
       "        vertical-align: top;\n",
       "    }\n",
       "\n",
       "    .dataframe thead th {\n",
       "        text-align: right;\n",
       "    }\n",
       "</style>\n",
       "<table border=\"1\" class=\"dataframe\">\n",
       "  <thead>\n",
       "    <tr style=\"text-align: right;\">\n",
       "      <th></th>\n",
       "      <th>fsq_id</th>\n",
       "      <th>bk_station_distance</th>\n",
       "      <th>latitude</th>\n",
       "      <th>longitude</th>\n",
       "      <th>name</th>\n",
       "      <th>category_name</th>\n",
       "      <th>bk_station_uid</th>\n",
       "    </tr>\n",
       "  </thead>\n",
       "  <tbody>\n",
       "    <tr>\n",
       "      <th>0</th>\n",
       "      <td>4b05872cf964a5203f8322e3</td>\n",
       "      <td>380</td>\n",
       "      <td>-22.912935</td>\n",
       "      <td>-43.180345</td>\n",
       "      <td>Circo Voador</td>\n",
       "      <td>Concert Hall</td>\n",
       "      <td>66.0</td>\n",
       "    </tr>\n",
       "    <tr>\n",
       "      <th>1</th>\n",
       "      <td>4b058723f964a520b38122e3</td>\n",
       "      <td>354</td>\n",
       "      <td>-22.912913</td>\n",
       "      <td>-43.179905</td>\n",
       "      <td>Arcos da Lapa</td>\n",
       "      <td>Restaurant</td>\n",
       "      <td>66.0</td>\n",
       "    </tr>\n",
       "    <tr>\n",
       "      <th>2</th>\n",
       "      <td>5601dae8498e4f74ba3e31cc</td>\n",
       "      <td>342</td>\n",
       "      <td>-22.911651</td>\n",
       "      <td>-43.175798</td>\n",
       "      <td>Starbucks</td>\n",
       "      <td>Coffee Shop</td>\n",
       "      <td>66.0</td>\n",
       "    </tr>\n",
       "    <tr>\n",
       "      <th>3</th>\n",
       "      <td>4b058720f964a520268122e3</td>\n",
       "      <td>534</td>\n",
       "      <td>-22.905123</td>\n",
       "      <td>-43.178653</td>\n",
       "      <td>Confeitaria Colombo</td>\n",
       "      <td>Bakery</td>\n",
       "      <td>66.0</td>\n",
       "    </tr>\n",
       "    <tr>\n",
       "      <th>4</th>\n",
       "      <td>4b058721f964a5206a8122e3</td>\n",
       "      <td>470</td>\n",
       "      <td>-22.905901</td>\n",
       "      <td>-43.179236</td>\n",
       "      <td>Casa Cavé</td>\n",
       "      <td>Bakery</td>\n",
       "      <td>66.0</td>\n",
       "    </tr>\n",
       "    <tr>\n",
       "      <th>...</th>\n",
       "      <td>...</td>\n",
       "      <td>...</td>\n",
       "      <td>...</td>\n",
       "      <td>...</td>\n",
       "      <td>...</td>\n",
       "      <td>...</td>\n",
       "      <td>...</td>\n",
       "    </tr>\n",
       "    <tr>\n",
       "      <th>495</th>\n",
       "      <td>60d8a8c82c3212508022b189</td>\n",
       "      <td>930</td>\n",
       "      <td>-22.982783</td>\n",
       "      <td>-43.204932</td>\n",
       "      <td>Mäska</td>\n",
       "      <td>Asian Restaurant</td>\n",
       "      <td>43.0</td>\n",
       "    </tr>\n",
       "    <tr>\n",
       "      <th>496</th>\n",
       "      <td>4e58ee04d22dfba6f46c10ce</td>\n",
       "      <td>367</td>\n",
       "      <td>-22.978994</td>\n",
       "      <td>-43.200804</td>\n",
       "      <td>Padaria Santa Marta</td>\n",
       "      <td>Bakery</td>\n",
       "      <td>43.0</td>\n",
       "    </tr>\n",
       "    <tr>\n",
       "      <th>497</th>\n",
       "      <td>5a443e9f8fb09e126f6e2209</td>\n",
       "      <td>967</td>\n",
       "      <td>-22.983001</td>\n",
       "      <td>-43.205165</td>\n",
       "      <td>Oia Cozinha Mediterranea</td>\n",
       "      <td>Greek Restaurant</td>\n",
       "      <td>43.0</td>\n",
       "    </tr>\n",
       "    <tr>\n",
       "      <th>498</th>\n",
       "      <td>4fb119d16d86b42ae66c909d</td>\n",
       "      <td>978</td>\n",
       "      <td>-22.984305</td>\n",
       "      <td>-43.200931</td>\n",
       "      <td>Starbucks</td>\n",
       "      <td>Coffee Shop</td>\n",
       "      <td>43.0</td>\n",
       "    </tr>\n",
       "    <tr>\n",
       "      <th>499</th>\n",
       "      <td>613a27c372021b197f93ee48</td>\n",
       "      <td>875</td>\n",
       "      <td>-22.983110</td>\n",
       "      <td>-43.202924</td>\n",
       "      <td>Pura Brasa</td>\n",
       "      <td>Churrascaria</td>\n",
       "      <td>43.0</td>\n",
       "    </tr>\n",
       "  </tbody>\n",
       "</table>\n",
       "<p>500 rows × 7 columns</p>\n",
       "</div>"
      ],
      "text/plain": [
       "                       fsq_id  bk_station_distance   latitude  longitude  \\\n",
       "0    4b05872cf964a5203f8322e3                  380 -22.912935 -43.180345   \n",
       "1    4b058723f964a520b38122e3                  354 -22.912913 -43.179905   \n",
       "2    5601dae8498e4f74ba3e31cc                  342 -22.911651 -43.175798   \n",
       "3    4b058720f964a520268122e3                  534 -22.905123 -43.178653   \n",
       "4    4b058721f964a5206a8122e3                  470 -22.905901 -43.179236   \n",
       "..                        ...                  ...        ...        ...   \n",
       "495  60d8a8c82c3212508022b189                  930 -22.982783 -43.204932   \n",
       "496  4e58ee04d22dfba6f46c10ce                  367 -22.978994 -43.200804   \n",
       "497  5a443e9f8fb09e126f6e2209                  967 -22.983001 -43.205165   \n",
       "498  4fb119d16d86b42ae66c909d                  978 -22.984305 -43.200931   \n",
       "499  613a27c372021b197f93ee48                  875 -22.983110 -43.202924   \n",
       "\n",
       "                         name     category_name  bk_station_uid  \n",
       "0                Circo Voador      Concert Hall            66.0  \n",
       "1               Arcos da Lapa        Restaurant            66.0  \n",
       "2                   Starbucks       Coffee Shop            66.0  \n",
       "3         Confeitaria Colombo            Bakery            66.0  \n",
       "4                   Casa Cavé            Bakery            66.0  \n",
       "..                        ...               ...             ...  \n",
       "495                     Mäska  Asian Restaurant            43.0  \n",
       "496       Padaria Santa Marta            Bakery            43.0  \n",
       "497  Oia Cozinha Mediterranea  Greek Restaurant            43.0  \n",
       "498                 Starbucks       Coffee Shop            43.0  \n",
       "499                Pura Brasa      Churrascaria            43.0  \n",
       "\n",
       "[500 rows x 7 columns]"
      ]
     },
     "execution_count": 16,
     "metadata": {},
     "output_type": "execute_result"
    }
   ],
   "source": [
    "df_foursquare"
   ]
  },
  {
   "cell_type": "markdown",
   "metadata": {},
   "source": [
    "# Yelp"
   ]
  },
  {
   "cell_type": "markdown",
   "metadata": {},
   "source": [
    "Send a request to Yelp with a small radius (1000m) for all the bike stations in your city of choice. "
   ]
  },
  {
   "cell_type": "code",
   "execution_count": 2,
   "metadata": {
    "tags": []
   },
   "outputs": [],
   "source": [
    "#Get YELP API key\n",
    "api_key_yelp = os.environ[\"YELP_API_KEY\"]\n",
    "\n",
    "\n",
    "#Set headers for URL\n",
    "headers_yelp = {\n",
    "    \"accept\": \"application/json\",\n",
    "    \"Authorization\": api_key_yelp\n",
    "}\n",
    "#print(api_key_yelp)"
   ]
  },
  {
   "cell_type": "code",
   "execution_count": 11,
   "metadata": {
    "tags": []
   },
   "outputs": [],
   "source": [
    "#Function to get data from Foursquare\n",
    "def get_yelp_data(data,headers):\n",
    "    \n",
    "    yelp_data =[]\n",
    "    for i,r in data[:10].iterrows():\n",
    "        \n",
    "        #Concatenate latitude and longitude to get the parameter ll for the API\n",
    "        lt = r['latitude']\n",
    "        lg = r['longitude']\n",
    "       # print(ll)\n",
    "        #URL to call places in a radius of 1000m and category \"bars and restaurants\" that is dinning and drinking places\n",
    "        url = f\"https://api.yelp.com/v3/businesses/search?radius=1000&categories=bars&categories=restaurants&latitude=\" + str(lt) + \"&longitude=\"+ str(lg)\n",
    "        #url = f\"https://api.yelp.com/v3/businesses/search?latitude=\" + str(lt) + \"&longitude=\"+ str(lt)\n",
    "        #url = f\"https://api.yelp.com/v3/businesses/search?latitude=\" + str(lt) + \"&longitude=\"+ str(lg) + \"&radius=1000&categories=bars%26categories%3Drestaurant&sort_by=distance\"\n",
    "        #get results in json\n",
    "        results_json       = rq.request('GET',url, headers = headers)\n",
    "        yelp_results       = results_json.json()\n",
    "       #Get results in json\n",
    "      # foursquare_json    = foursquare_results.json()\n",
    "        for row in yelp_results['businesses']:\n",
    "           #the json tag for results is called results\n",
    "           yelp_data.append({\n",
    "               'yelp_id'    :row['id'],\n",
    "               'bk_station_distance' :row['distance'],\n",
    "               'latitude'  :row['coordinates']['latitude'],\n",
    "               'longitude' :row['coordinates']['longitude'],\n",
    "               'name'      :row['name'],\n",
    "               'category_name':row['categories'][0]['alias'],# == NULL: None  ELSE  row.get(['categories'][0]['title'])), Review line\n",
    "               'price'     :row.get('price', None),\n",
    "               'rating'    :row.get('rating', None),\n",
    "               'review_count': row.get('review_count',None),\n",
    "               'bk_station_uid': r['uid']\n",
    "           }) \n",
    "        data_ylp = pd.DataFrame(yelp_data)\n",
    "        \n",
    "    return data_ylp"
   ]
  },
  {
   "cell_type": "code",
   "execution_count": 12,
   "metadata": {
    "tags": []
   },
   "outputs": [],
   "source": [
    "#Function to get data from Foursquare\n",
    "def get_yelp_data2(data,headers):\n",
    "    \n",
    "    yelp_data =[]\n",
    "    for i,r in data[:10].iterrows():\n",
    "        \n",
    "        #Concatenate latitude and longitude to get the parameter ll for the API\n",
    "        lt = r['latitude']\n",
    "        lg = r['longitude']\n",
    "       # print(ll)\n",
    "        #URL to call places in a radius of 1000m and category \"bars and restaurants\" that is dinning and drinking places\n",
    "        url = f\"https://api.yelp.com/v3/businesses/search?radius=1000&categories=bars&categories=restaurants&latitude=\" + str(lt) + \"&longitude=\"+ str(lg)\n",
    "        #url = f\"https://api.yelp.com/v3/businesses/search?latitude=\" + str(lt) + \"&longitude=\"+ str(lt)\n",
    "        #url = f\"https://api.yelp.com/v3/businesses/search?latitude=\" + str(lt) + \"&longitude=\"+ str(lg) + \"&radius=1000&categories=bars%26categories%3Drestaurant&sort_by=distance\"\n",
    "        #get results in json\n",
    "        results_json       = rq.request('GET',url, headers = headers)\n",
    "        yelp_results       = results_json.json()\n",
    "        #print(yelp_results)\n",
    "        #print(yelp_results)\n",
    "       #Get results in json\n",
    "      # foursquare_json    = foursquare_results.json()\n",
    "     #  for row in yelp_results['businesses']:\n",
    "     #     #the json tag for results is called results\n",
    "     #     yelp_data.append({\n",
    "     #         'yelp_id'    :row['id'],\n",
    "     #         'bk_station_distance' :row['distance'],\n",
    "     #         'latitude'  :row['coordinates']['latitude'],\n",
    "     #         'longitude' :row['coordinates']['longitude'],\n",
    "     #         'name'      :row['name'],\n",
    "     #         'category_name':row['categories'][0]['alias'],# == NULL: None  ELSE  row.get(['categories'][0]['title'])), Review line\n",
    "     #         'price'     :row.get('price', None),\n",
    "     #         'rating'    :row.get('rating', None),\n",
    "     #         'review_count': row.get('review_count',None),\n",
    "     #         'bk_station_uid': r['uid']\n",
    "     #     }) \n",
    "     #  data_ylp = pd.DataFrame(yelp_data)\n",
    "        return yelp_results\n",
    "    #return data_ylp"
   ]
  },
  {
   "cell_type": "markdown",
   "metadata": {},
   "source": [
    "Parse through the response to get the POI (such as restaurants, bars, etc) details you want (ratings, name, location, etc)"
   ]
  },
  {
   "cell_type": "code",
   "execution_count": 13,
   "metadata": {
    "tags": []
   },
   "outputs": [
    {
     "ename": "IndexError",
     "evalue": "list index out of range",
     "output_type": "error",
     "traceback": [
      "\u001b[0;31m---------------------------------------------------------------------------\u001b[0m",
      "\u001b[0;31mIndexError\u001b[0m                                Traceback (most recent call last)",
      "Cell \u001b[0;32mIn[13], line 2\u001b[0m\n\u001b[1;32m      1\u001b[0m \u001b[38;5;66;03m# Call function to process CSV\u001b[39;00m\n\u001b[0;32m----> 2\u001b[0m df_yelp \u001b[38;5;241m=\u001b[39m \u001b[43mget_yelp_data\u001b[49m\u001b[43m(\u001b[49m\u001b[43mcity_bike_data\u001b[49m\u001b[43m,\u001b[49m\u001b[43mheaders_yelp\u001b[49m\u001b[43m)\u001b[49m\n\u001b[1;32m      3\u001b[0m df_yelp\u001b[38;5;241m.\u001b[39mto_csv(\u001b[38;5;124m'\u001b[39m\u001b[38;5;124myelp_data.csv\u001b[39m\u001b[38;5;124m'\u001b[39m,index \u001b[38;5;241m=\u001b[39m \u001b[38;5;28;01mFalse\u001b[39;00m, sep\u001b[38;5;241m=\u001b[39m \u001b[38;5;124m'\u001b[39m\u001b[38;5;124m,\u001b[39m\u001b[38;5;124m'\u001b[39m)\n\u001b[1;32m      4\u001b[0m \u001b[38;5;66;03m#JSON(df_yelp)\u001b[39;00m\n",
      "Cell \u001b[0;32mIn[11], line 28\u001b[0m, in \u001b[0;36mget_yelp_data\u001b[0;34m(data, headers)\u001b[0m\n\u001b[1;32m     18\u001b[0m    \u001b[38;5;66;03m#Get results in json\u001b[39;00m\n\u001b[1;32m     19\u001b[0m   \u001b[38;5;66;03m# foursquare_json    = foursquare_results.json()\u001b[39;00m\n\u001b[1;32m     20\u001b[0m     \u001b[38;5;28;01mfor\u001b[39;00m row \u001b[38;5;129;01min\u001b[39;00m yelp_results[\u001b[38;5;124m'\u001b[39m\u001b[38;5;124mbusinesses\u001b[39m\u001b[38;5;124m'\u001b[39m]:\n\u001b[1;32m     21\u001b[0m        \u001b[38;5;66;03m#the json tag for results is called results\u001b[39;00m\n\u001b[1;32m     22\u001b[0m        yelp_data\u001b[38;5;241m.\u001b[39mappend({\n\u001b[1;32m     23\u001b[0m            \u001b[38;5;124m'\u001b[39m\u001b[38;5;124myelp_id\u001b[39m\u001b[38;5;124m'\u001b[39m    :row[\u001b[38;5;124m'\u001b[39m\u001b[38;5;124mid\u001b[39m\u001b[38;5;124m'\u001b[39m],\n\u001b[1;32m     24\u001b[0m            \u001b[38;5;124m'\u001b[39m\u001b[38;5;124mbk_station_distance\u001b[39m\u001b[38;5;124m'\u001b[39m :row[\u001b[38;5;124m'\u001b[39m\u001b[38;5;124mdistance\u001b[39m\u001b[38;5;124m'\u001b[39m],\n\u001b[1;32m     25\u001b[0m            \u001b[38;5;124m'\u001b[39m\u001b[38;5;124mlatitude\u001b[39m\u001b[38;5;124m'\u001b[39m  :row[\u001b[38;5;124m'\u001b[39m\u001b[38;5;124mcoordinates\u001b[39m\u001b[38;5;124m'\u001b[39m][\u001b[38;5;124m'\u001b[39m\u001b[38;5;124mlatitude\u001b[39m\u001b[38;5;124m'\u001b[39m],\n\u001b[1;32m     26\u001b[0m            \u001b[38;5;124m'\u001b[39m\u001b[38;5;124mlongitude\u001b[39m\u001b[38;5;124m'\u001b[39m :row[\u001b[38;5;124m'\u001b[39m\u001b[38;5;124mcoordinates\u001b[39m\u001b[38;5;124m'\u001b[39m][\u001b[38;5;124m'\u001b[39m\u001b[38;5;124mlongitude\u001b[39m\u001b[38;5;124m'\u001b[39m],\n\u001b[1;32m     27\u001b[0m            \u001b[38;5;124m'\u001b[39m\u001b[38;5;124mname\u001b[39m\u001b[38;5;124m'\u001b[39m      :row[\u001b[38;5;124m'\u001b[39m\u001b[38;5;124mname\u001b[39m\u001b[38;5;124m'\u001b[39m],\n\u001b[0;32m---> 28\u001b[0m            \u001b[38;5;124m'\u001b[39m\u001b[38;5;124mcategory_name\u001b[39m\u001b[38;5;124m'\u001b[39m:\u001b[43mrow\u001b[49m\u001b[43m[\u001b[49m\u001b[38;5;124;43m'\u001b[39;49m\u001b[38;5;124;43mcategories\u001b[39;49m\u001b[38;5;124;43m'\u001b[39;49m\u001b[43m]\u001b[49m\u001b[43m[\u001b[49m\u001b[38;5;241;43m0\u001b[39;49m\u001b[43m]\u001b[49m[\u001b[38;5;124m'\u001b[39m\u001b[38;5;124malias\u001b[39m\u001b[38;5;124m'\u001b[39m],\u001b[38;5;66;03m# == NULL: None  ELSE  row.get(['categories'][0]['title'])), Review line\u001b[39;00m\n\u001b[1;32m     29\u001b[0m            \u001b[38;5;124m'\u001b[39m\u001b[38;5;124mprice\u001b[39m\u001b[38;5;124m'\u001b[39m     :row\u001b[38;5;241m.\u001b[39mget(\u001b[38;5;124m'\u001b[39m\u001b[38;5;124mprice\u001b[39m\u001b[38;5;124m'\u001b[39m, \u001b[38;5;28;01mNone\u001b[39;00m),\n\u001b[1;32m     30\u001b[0m            \u001b[38;5;124m'\u001b[39m\u001b[38;5;124mrating\u001b[39m\u001b[38;5;124m'\u001b[39m    :row\u001b[38;5;241m.\u001b[39mget(\u001b[38;5;124m'\u001b[39m\u001b[38;5;124mrating\u001b[39m\u001b[38;5;124m'\u001b[39m, \u001b[38;5;28;01mNone\u001b[39;00m),\n\u001b[1;32m     31\u001b[0m            \u001b[38;5;124m'\u001b[39m\u001b[38;5;124mreview_count\u001b[39m\u001b[38;5;124m'\u001b[39m: row\u001b[38;5;241m.\u001b[39mget(\u001b[38;5;124m'\u001b[39m\u001b[38;5;124mreview_count\u001b[39m\u001b[38;5;124m'\u001b[39m,\u001b[38;5;28;01mNone\u001b[39;00m),\n\u001b[1;32m     32\u001b[0m            \u001b[38;5;124m'\u001b[39m\u001b[38;5;124mbk_station_uid\u001b[39m\u001b[38;5;124m'\u001b[39m: r[\u001b[38;5;124m'\u001b[39m\u001b[38;5;124muid\u001b[39m\u001b[38;5;124m'\u001b[39m]\n\u001b[1;32m     33\u001b[0m        }) \n\u001b[1;32m     34\u001b[0m     data_ylp \u001b[38;5;241m=\u001b[39m pd\u001b[38;5;241m.\u001b[39mDataFrame(yelp_data)\n\u001b[1;32m     36\u001b[0m \u001b[38;5;28;01mreturn\u001b[39;00m data_ylp\n",
      "\u001b[0;31mIndexError\u001b[0m: list index out of range"
     ]
    }
   ],
   "source": [
    "# Call function to process CSV\n",
    "df_yelp = get_yelp_data(city_bike_data,headers_yelp)\n",
    "df_yelp.to_csv('yelp_data.csv',index = False, sep= ',')\n",
    "#JSON(df_yelp)"
   ]
  },
  {
   "cell_type": "code",
   "execution_count": 14,
   "metadata": {
    "tags": []
   },
   "outputs": [
    {
     "data": {
      "application/json": {
       "businesses": [
        {
         "alias": "confeitaria-colombo-rio-de-janeiro",
         "categories": [
          {
           "alias": "cafes",
           "title": "Cafes"
          }
         ],
         "coordinates": {
          "latitude": -22.90529,
          "longitude": -43.17866
         },
         "display_phone": "+55 21 2505-1500",
         "distance": 538.2769624401808,
         "id": "oevr_FvYgxkOcpSxMA8boQ",
         "image_url": "https://s3-media4.fl.yelpcdn.com/bphoto/NjncxaYwO9oazbxqqfjojw/o.jpg",
         "is_closed": false,
         "location": {
          "address1": "R. Gonçalves Dias, 32",
          "address2": "",
          "address3": "",
          "city": "Rio de Janeiro",
          "country": "BR",
          "display_address": [
           "R. Gonçalves Dias, 32",
           "Rio de Janeiro - RJ 20050-030",
           "Brazil"
          ],
          "state": "RJ",
          "zip_code": "20050-030"
         },
         "name": "Confeitaria Colombo",
         "phone": "+552125051500",
         "price": "$$",
         "rating": 4,
         "review_count": 136,
         "transactions": [],
         "url": "https://www.yelp.com/biz/confeitaria-colombo-rio-de-janeiro?adjust_creative=BnUNDg1R0v5DesfMRRwF0Q&utm_campaign=yelp_api_v3&utm_medium=api_v3_business_search&utm_source=BnUNDg1R0v5DesfMRRwF0Q"
        },
        {
         "alias": "carioca-da-gema-rio-de-janeiro-2",
         "categories": [
          {
           "alias": "pizza",
           "title": "Pizza"
          },
          {
           "alias": "bars",
           "title": "Bars"
          }
         ],
         "coordinates": {
          "latitude": -22.913225,
          "longitude": -43.181989
         },
         "display_phone": "+55 21 2221-0043",
         "distance": 509.16011404783336,
         "id": "VgDFLuJPtEcAcmjwjmnzTg",
         "image_url": "https://s3-media2.fl.yelpcdn.com/bphoto/A5Q3V14FfaToGQ7OZLaV9A/o.jpg",
         "is_closed": false,
         "location": {
          "address1": "Av. Mem de Sá, 79",
          "address2": "",
          "address3": "",
          "city": "Rio de Janeiro",
          "country": "BR",
          "display_address": [
           "Av. Mem de Sá, 79",
           "Rio de Janeiro - RJ 20230-150",
           "Brazil"
          ],
          "state": "RJ",
          "zip_code": "20230-150"
         },
         "name": "Carioca da Gema",
         "phone": "+552122210043",
         "price": "$$",
         "rating": 4,
         "review_count": 30,
         "transactions": [],
         "url": "https://www.yelp.com/biz/carioca-da-gema-rio-de-janeiro-2?adjust_creative=BnUNDg1R0v5DesfMRRwF0Q&utm_campaign=yelp_api_v3&utm_medium=api_v3_business_search&utm_source=BnUNDg1R0v5DesfMRRwF0Q"
        },
        {
         "alias": "nova-capela-rio-de-janeiro",
         "categories": [
          {
           "alias": "divebars",
           "title": "Dive Bars"
          },
          {
           "alias": "portuguese",
           "title": "Portuguese"
          }
         ],
         "coordinates": {
          "latitude": -22.9129674,
          "longitude": -43.1822812
         },
         "display_phone": "+55 21 2508-8493",
         "distance": 512.2757156721196,
         "id": "WYmZDSwt4D56OfxtNPqaVw",
         "image_url": "https://s3-media1.fl.yelpcdn.com/bphoto/R752Zp1cQf32VJ2QM7KRdQ/o.jpg",
         "is_closed": false,
         "location": {
          "address1": "Av. Mem de Sá, 96",
          "address2": null,
          "address3": null,
          "city": "Rio de Janeiro",
          "country": "BR",
          "display_address": [
           "Av. Mem de Sá, 96",
           "Rio de Janeiro - RJ 20230-152",
           "Brazil"
          ],
          "state": "RJ",
          "zip_code": "20230-152"
         },
         "name": "Nova Capela",
         "phone": "+552125088493",
         "price": "$$",
         "rating": 4,
         "review_count": 26,
         "transactions": [],
         "url": "https://www.yelp.com/biz/nova-capela-rio-de-janeiro?adjust_creative=BnUNDg1R0v5DesfMRRwF0Q&utm_campaign=yelp_api_v3&utm_medium=api_v3_business_search&utm_source=BnUNDg1R0v5DesfMRRwF0Q"
        },
        {
         "alias": "hachiko-rio-de-janeiro",
         "categories": [
          {
           "alias": "sushi",
           "title": "Sushi Bars"
          }
         ],
         "coordinates": {
          "latitude": -22.9041463,
          "longitude": -43.1735053
         },
         "display_phone": "+55 21 2533-6366",
         "distance": 825.9614400125125,
         "id": "Gf7m6a5PC4CwAtCCXC4qTQ",
         "image_url": "https://s3-media2.fl.yelpcdn.com/bphoto/9sLqCQUznjZ3bOFxJDS_KA/o.jpg",
         "is_closed": false,
         "location": {
          "address1": "Travessa do Paço, 10",
          "address2": "",
          "address3": "",
          "city": "Rio de Janeiro",
          "country": "BR",
          "display_address": [
           "Travessa do Paço, 10",
           "Rio de Janeiro - RJ 20010-170",
           "Brazil"
          ],
          "state": "RJ",
          "zip_code": "20010-170"
         },
         "name": "Hachiko",
         "phone": "+552125336366",
         "price": "$$$$",
         "rating": 4.5,
         "review_count": 20,
         "transactions": [],
         "url": "https://www.yelp.com/biz/hachiko-rio-de-janeiro?adjust_creative=BnUNDg1R0v5DesfMRRwF0Q&utm_campaign=yelp_api_v3&utm_medium=api_v3_business_search&utm_source=BnUNDg1R0v5DesfMRRwF0Q"
        },
        {
         "alias": "veggie-govinda-rio-de-janeiro",
         "categories": [
          {
           "alias": "indpak",
           "title": "Indian"
          },
          {
           "alias": "vegetarian",
           "title": "Vegetarian"
          }
         ],
         "coordinates": {
          "latitude": -22.9053834401331,
          "longitude": -43.1770443409952
         },
         "display_phone": "+55 21 2544-2636",
         "distance": 535.6775738411823,
         "id": "svVJSeh-wQ4r7h0HGa1xzw",
         "image_url": "https://s3-media4.fl.yelpcdn.com/bphoto/2qppDoKlFpkHdg0byQehwQ/o.jpg",
         "is_closed": false,
         "location": {
          "address1": "Rua Rodrigo Silva, 6",
          "address2": "",
          "address3": "",
          "city": "Rio de Janeiro",
          "country": "BR",
          "display_address": [
           "Rua Rodrigo Silva, 6",
           "Rio de Janeiro - RJ 20011-040",
           "Brazil"
          ],
          "state": "RJ",
          "zip_code": "20011-040"
         },
         "name": "Veggie Govinda",
         "phone": "+552125442636",
         "price": "$$",
         "rating": 4.5,
         "review_count": 11,
         "transactions": [],
         "url": "https://www.yelp.com/biz/veggie-govinda-rio-de-janeiro?adjust_creative=BnUNDg1R0v5DesfMRRwF0Q&utm_campaign=yelp_api_v3&utm_medium=api_v3_business_search&utm_source=BnUNDg1R0v5DesfMRRwF0Q"
        },
        {
         "alias": "starbucks-rio-de-janeiro-20",
         "categories": [
          {
           "alias": "cafes",
           "title": "Cafes"
          },
          {
           "alias": "coffee",
           "title": "Coffee & Tea"
          }
         ],
         "coordinates": {
          "latitude": -22.9049757401853,
          "longitude": -43.1789933145046
         },
         "display_phone": "+55 21 3178-2048",
         "distance": 564.8612469594296,
         "id": "XorcW7AkUzvQf6LVCF8rlw",
         "image_url": "https://s3-media4.fl.yelpcdn.com/bphoto/qrfdgpAZM7U7Z0_71FRc6A/o.jpg",
         "is_closed": false,
         "location": {
          "address1": "R. Gonçalves Dias, 51",
          "address2": "Loja A",
          "address3": "",
          "city": "Rio de Janeiro",
          "country": "BR",
          "display_address": [
           "R. Gonçalves Dias, 51",
           "Loja A",
           "Rio de Janeiro - AC 20050-030",
           "Brazil"
          ],
          "state": "AC",
          "zip_code": "20050-030"
         },
         "name": "Starbucks",
         "phone": "+552131782048",
         "price": "$",
         "rating": 4.5,
         "review_count": 12,
         "transactions": [],
         "url": "https://www.yelp.com/biz/starbucks-rio-de-janeiro-20?adjust_creative=BnUNDg1R0v5DesfMRRwF0Q&utm_campaign=yelp_api_v3&utm_medium=api_v3_business_search&utm_source=BnUNDg1R0v5DesfMRRwF0Q"
        },
        {
         "alias": "casa-da-cachaça-rio-de-janeiro-3",
         "categories": [
          {
           "alias": "bars",
           "title": "Bars"
          }
         ],
         "coordinates": {
          "latitude": -22.9127672,
          "longitude": -43.1833976
         },
         "display_phone": "",
         "distance": 593.0255952744346,
         "id": "z03C8VR0owLujmSoQpaeLw",
         "image_url": "https://s3-media1.fl.yelpcdn.com/bphoto/o8XaxUTwpu1zSQxz3SBHJg/o.jpg",
         "is_closed": false,
         "location": {
          "address1": "Av. Mem de Sá, 110",
          "address2": "Loja B",
          "address3": "",
          "city": "Rio de Janeiro",
          "country": "BR",
          "display_address": [
           "Av. Mem de Sá, 110",
           "Loja B",
           "Rio de Janeiro - RJ 20230-152",
           "Brazil"
          ],
          "state": "RJ",
          "zip_code": "20230-152"
         },
         "name": "Casa da Cachaça",
         "phone": "",
         "price": "$",
         "rating": 4,
         "review_count": 20,
         "transactions": [],
         "url": "https://www.yelp.com/biz/casa-da-cacha%C3%A7a-rio-de-janeiro-3?adjust_creative=BnUNDg1R0v5DesfMRRwF0Q&utm_campaign=yelp_api_v3&utm_medium=api_v3_business_search&utm_source=BnUNDg1R0v5DesfMRRwF0Q"
        },
        {
         "alias": "casa-momus-rio-de-janeiro",
         "categories": [
          {
           "alias": "mediterranean",
           "title": "Mediterranean"
          },
          {
           "alias": "cocktailbars",
           "title": "Cocktail Bars"
          }
         ],
         "coordinates": {
          "latitude": -22.9082603,
          "longitude": -43.1837502
         },
         "display_phone": "+55 21 3852-8250",
         "distance": 591.9394165958817,
         "id": "kqTqUlSjlQg93uIeTR_8uQ",
         "image_url": "https://s3-media1.fl.yelpcdn.com/bphoto/6mKFpzDFvgJX7-AlsALG9A/o.jpg",
         "is_closed": false,
         "location": {
          "address1": "R. do Lavradio, 11",
          "address2": "",
          "address3": "",
          "city": "Rio de Janeiro",
          "country": "BR",
          "display_address": [
           "R. do Lavradio, 11",
           "Rio de Janeiro - RJ 20230-070",
           "Brazil"
          ],
          "state": "RJ",
          "zip_code": "20230-070"
         },
         "name": "Casa Momus",
         "phone": "+552138528250",
         "price": "$$$",
         "rating": 4,
         "review_count": 15,
         "transactions": [],
         "url": "https://www.yelp.com/biz/casa-momus-rio-de-janeiro?adjust_creative=BnUNDg1R0v5DesfMRRwF0Q&utm_campaign=yelp_api_v3&utm_medium=api_v3_business_search&utm_source=BnUNDg1R0v5DesfMRRwF0Q"
        },
        {
         "alias": "bar-amarelinho-da-cinelândia-rio-de-janeiro",
         "categories": [
          {
           "alias": "bars",
           "title": "Bars"
          },
          {
           "alias": "brazilian",
           "title": "Brazilian"
          }
         ],
         "coordinates": {
          "latitude": -22.910365,
          "longitude": -43.176257
         },
         "display_phone": "+55 21 3549-8434",
         "distance": 225.578972499311,
         "id": "mUQSraz9VstMRHhbdT8D-A",
         "image_url": "https://s3-media2.fl.yelpcdn.com/bphoto/jhyW6lYMK0aZJ9VvUatC3A/o.jpg",
         "is_closed": false,
         "location": {
          "address1": "Praça Floriano, 55",
          "address2": "",
          "address3": null,
          "city": "Rio de Janeiro",
          "country": "BR",
          "display_address": [
           "Praça Floriano, 55",
           "Rio de Janeiro - RJ 20031-050",
           "Brazil"
          ],
          "state": "RJ",
          "zip_code": "20031-050"
         },
         "name": "Bar Amarelinho da Cinelândia",
         "phone": "+552135498434",
         "price": "$$",
         "rating": 3.5,
         "review_count": 22,
         "transactions": [],
         "url": "https://www.yelp.com/biz/bar-amarelinho-da-cinel%C3%A2ndia-rio-de-janeiro?adjust_creative=BnUNDg1R0v5DesfMRRwF0Q&utm_campaign=yelp_api_v3&utm_medium=api_v3_business_search&utm_source=BnUNDg1R0v5DesfMRRwF0Q"
        },
        {
         "alias": "booze-bar-rio-de-janeiro",
         "categories": [
          {
           "alias": "pubs",
           "title": "Pubs"
          }
         ],
         "coordinates": {
          "latitude": -22.91331,
          "longitude": -43.1811999
         },
         "display_phone": "+55 21 2252-1588",
         "distance": 470.12631508283863,
         "id": "V_kzUhXnrlDcgMC9tND2fg",
         "image_url": "https://s3-media2.fl.yelpcdn.com/bphoto/I4XEPyMQLR0K9Ad7TMOaew/o.jpg",
         "is_closed": false,
         "location": {
          "address1": "Av. Mem de Sá, 63",
          "address2": "",
          "address3": "",
          "city": "Rio de Janeiro",
          "country": "BR",
          "display_address": [
           "Av. Mem de Sá, 63",
           "Rio de Janeiro - RJ 20230150",
           "Brazil"
          ],
          "state": "RJ",
          "zip_code": "20230150"
         },
         "name": "Booze Bar",
         "phone": "+552122521588",
         "price": "$$",
         "rating": 4,
         "review_count": 14,
         "transactions": [],
         "url": "https://www.yelp.com/biz/booze-bar-rio-de-janeiro?adjust_creative=BnUNDg1R0v5DesfMRRwF0Q&utm_campaign=yelp_api_v3&utm_medium=api_v3_business_search&utm_source=BnUNDg1R0v5DesfMRRwF0Q"
        },
        {
         "alias": "bar-brasil-rio-de-janeiro-2",
         "categories": [
          {
           "alias": "german",
           "title": "German"
          },
          {
           "alias": "localflavor",
           "title": "Local Flavor"
          }
         ],
         "coordinates": {
          "latitude": -22.9130306,
          "longitude": -43.1820183
         },
         "display_phone": "+55 21 2509-5943",
         "distance": 489.2257724497136,
         "id": "2KXTIh0IleltMjN0KrhANA",
         "image_url": "https://s3-media4.fl.yelpcdn.com/bphoto/yi7Sj4UdnIvCp1_bO8jZ_A/o.jpg",
         "is_closed": false,
         "location": {
          "address1": "Av. Mem de Sá, 90",
          "address2": "",
          "address3": "",
          "city": "Rio de Janeiro",
          "country": "BR",
          "display_address": [
           "Av. Mem de Sá, 90",
           "Rio de Janeiro - RJ 20230-152",
           "Brazil"
          ],
          "state": "RJ",
          "zip_code": "20230-152"
         },
         "name": "Bar Brasil",
         "phone": "+552125095943",
         "price": "$$",
         "rating": 4.5,
         "review_count": 10,
         "transactions": [],
         "url": "https://www.yelp.com/biz/bar-brasil-rio-de-janeiro-2?adjust_creative=BnUNDg1R0v5DesfMRRwF0Q&utm_campaign=yelp_api_v3&utm_medium=api_v3_business_search&utm_source=BnUNDg1R0v5DesfMRRwF0Q"
        },
        {
         "alias": "mestre-kami-rio-de-janeiro",
         "categories": [
          {
           "alias": "japanese",
           "title": "Japanese"
          }
         ],
         "coordinates": {
          "latitude": -22.9135303,
          "longitude": -43.1814995
         },
         "display_phone": "+55 21 2252-4214",
         "distance": 505.6767671574681,
         "id": "eP1oxbcVPlJ-LD9tTl33Mw",
         "image_url": "https://s3-media2.fl.yelpcdn.com/bphoto/rw3meOhw13-oDW1g5V0VRg/o.jpg",
         "is_closed": false,
         "location": {
          "address1": "R. do Lavradio 185",
          "address2": "",
          "address3": "",
          "city": "Rio de Janeiro",
          "country": "BR",
          "display_address": [
           "R. do Lavradio 185",
           "Rio de Janeiro - RJ 20230-070",
           "Brazil"
          ],
          "state": "RJ",
          "zip_code": "20230-070"
         },
         "name": "Mestre Kami",
         "phone": "+552122524214",
         "price": "$$$",
         "rating": 4,
         "review_count": 14,
         "transactions": [],
         "url": "https://www.yelp.com/biz/mestre-kami-rio-de-janeiro?adjust_creative=BnUNDg1R0v5DesfMRRwF0Q&utm_campaign=yelp_api_v3&utm_medium=api_v3_business_search&utm_source=BnUNDg1R0v5DesfMRRwF0Q"
        },
        {
         "alias": "lapamaki-rio-de-janeiro-2",
         "categories": [
          {
           "alias": "japanese",
           "title": "Japanese"
          },
          {
           "alias": "rodizios",
           "title": "Rodizios"
          }
         ],
         "coordinates": {
          "latitude": -22.9141098,
          "longitude": -43.1824366
         },
         "display_phone": "+55 21 2221-8140",
         "distance": 611.8692094824468,
         "id": "ysipHIdra8GM0vGrCKgVHQ",
         "image_url": "https://s3-media4.fl.yelpcdn.com/bphoto/uhCOZ5SlRNCJ6JYIko5n3w/o.jpg",
         "is_closed": false,
         "location": {
          "address1": "R. do Riachuelo, 67",
          "address2": "",
          "address3": "",
          "city": "Rio de Janeiro",
          "country": "BR",
          "display_address": [
           "R. do Riachuelo, 67",
           "Rio de Janeiro - RJ 20230-010",
           "Brazil"
          ],
          "state": "RJ",
          "zip_code": "20230-010"
         },
         "name": "LapaMaki",
         "phone": "+552122218140",
         "price": "$$$",
         "rating": 4.5,
         "review_count": 12,
         "transactions": [],
         "url": "https://www.yelp.com/biz/lapamaki-rio-de-janeiro-2?adjust_creative=BnUNDg1R0v5DesfMRRwF0Q&utm_campaign=yelp_api_v3&utm_medium=api_v3_business_search&utm_source=BnUNDg1R0v5DesfMRRwF0Q"
        },
        {
         "alias": "beco-do-hamburguer-rio-de-janeiro",
         "categories": [
          {
           "alias": "burgers",
           "title": "Burgers"
          }
         ],
         "coordinates": {
          "latitude": -22.903045,
          "longitude": -43.175896
         },
         "display_phone": "+55 21 3553-9181",
         "distance": 818.7767433185975,
         "id": "kWeWg9quN7j14g7H9YJ8MA",
         "image_url": "https://s3-media4.fl.yelpcdn.com/bphoto/PsDSqUqyVGgkw_ehKegBoQ/o.jpg",
         "is_closed": false,
         "location": {
          "address1": "Beco dos Barbeiros, 6",
          "address2": "",
          "address3": "",
          "city": "Rio de Janeiro",
          "country": "BR",
          "display_address": [
           "Beco dos Barbeiros, 6",
           "Rio de Janeiro - RJ 20011-010",
           "Brazil"
          ],
          "state": "RJ",
          "zip_code": "20011-010"
         },
         "name": "Beco do Hamburguer",
         "phone": "+552135539181",
         "price": "$",
         "rating": 4,
         "review_count": 18,
         "transactions": [],
         "url": "https://www.yelp.com/biz/beco-do-hamburguer-rio-de-janeiro?adjust_creative=BnUNDg1R0v5DesfMRRwF0Q&utm_campaign=yelp_api_v3&utm_medium=api_v3_business_search&utm_source=BnUNDg1R0v5DesfMRRwF0Q"
        },
        {
         "alias": "sarau-rio-rio-de-janeiro",
         "categories": [
          {
           "alias": "bars",
           "title": "Bars"
          }
         ],
         "coordinates": {
          "latitude": -22.913106,
          "longitude": -43.180986
         },
         "display_phone": "+55 21 2508-7154",
         "distance": 430.8741452370072,
         "id": "jC3iFwIbkNySZXCDX5wJ0w",
         "image_url": "https://s3-media1.fl.yelpcdn.com/bphoto/TC7DVI0_shPQWZzQIAjyBA/o.jpg",
         "is_closed": false,
         "location": {
          "address1": "Av. Mem de Sá, 64",
          "address2": "",
          "address3": "",
          "city": "Rio de Janeiro",
          "country": "BR",
          "display_address": [
           "Av. Mem de Sá, 64",
           "Rio de Janeiro - RJ 20230-152",
           "Brazil"
          ],
          "state": "RJ",
          "zip_code": "20230-152"
         },
         "name": "Sarau Rio",
         "phone": "+552125087154",
         "price": "$$",
         "rating": 4,
         "review_count": 10,
         "transactions": [],
         "url": "https://www.yelp.com/biz/sarau-rio-rio-de-janeiro?adjust_creative=BnUNDg1R0v5DesfMRRwF0Q&utm_campaign=yelp_api_v3&utm_medium=api_v3_business_search&utm_source=BnUNDg1R0v5DesfMRRwF0Q"
        },
        {
         "alias": "delírio-tropical-rio-de-janeiro-14",
         "categories": [
          {
           "alias": "salad",
           "title": "Salad"
          },
          {
           "alias": "brazilian",
           "title": "Brazilian"
          },
          {
           "alias": "juicebars",
           "title": "Juice Bars & Smoothies"
          }
         ],
         "coordinates": {
          "latitude": -22.9047344,
          "longitude": -43.1758087
         },
         "display_phone": "+55 21 2242-5906",
         "distance": 647.0209482021309,
         "id": "k5_rPRbm6IJ6rpDPHmjF4A",
         "image_url": "https://s3-media1.fl.yelpcdn.com/bphoto/w0WQ7yPBcsnP4u09LtSnDw/o.jpg",
         "is_closed": false,
         "location": {
          "address1": "R. da Assembléia, 36",
          "address2": "",
          "address3": "",
          "city": "Rio de Janeiro",
          "country": "BR",
          "display_address": [
           "R. da Assembléia, 36",
           "Rio de Janeiro - RJ 20011-000",
           "Brazil"
          ],
          "state": "RJ",
          "zip_code": "20011-000"
         },
         "name": "Delírio Tropical",
         "phone": "+552122425906",
         "price": "$$",
         "rating": 4.5,
         "review_count": 9,
         "transactions": [],
         "url": "https://www.yelp.com/biz/del%C3%ADrio-tropical-rio-de-janeiro-14?adjust_creative=BnUNDg1R0v5DesfMRRwF0Q&utm_campaign=yelp_api_v3&utm_medium=api_v3_business_search&utm_source=BnUNDg1R0v5DesfMRRwF0Q"
        },
        {
         "alias": "antônios-bar-e-botequim-rio-de-janeiro-2",
         "categories": [
          {
           "alias": "bars",
           "title": "Bars"
          },
          {
           "alias": "brazilian",
           "title": "Brazilian"
          }
         ],
         "coordinates": {
          "latitude": -22.9129951,
          "longitude": -43.1819173
         },
         "display_phone": "+55 21 2224-4197",
         "distance": 486.2373373083584,
         "id": "wfRek7BLCVd_wim6pxqQ7A",
         "image_url": "https://s3-media2.fl.yelpcdn.com/bphoto/8tCLDfof2ZzroqKTdZlR9g/o.jpg",
         "is_closed": false,
         "location": {
          "address1": "Av. Mem de Sá, 88",
          "address2": null,
          "address3": null,
          "city": "Rio de Janeiro",
          "country": "BR",
          "display_address": [
           "Av. Mem de Sá, 88",
           "Rio de Janeiro - RJ 20230-152",
           "Brazil"
          ],
          "state": "RJ",
          "zip_code": "20230-152"
         },
         "name": "Antônio's Bar e Botequim",
         "phone": "+552122244197",
         "price": "$$",
         "rating": 4,
         "review_count": 12,
         "transactions": [],
         "url": "https://www.yelp.com/biz/ant%C3%B4nios-bar-e-botequim-rio-de-janeiro-2?adjust_creative=BnUNDg1R0v5DesfMRRwF0Q&utm_campaign=yelp_api_v3&utm_medium=api_v3_business_search&utm_source=BnUNDg1R0v5DesfMRRwF0Q"
        },
        {
         "alias": "boteco-carioquinha-rio-de-janeiro",
         "categories": [
          {
           "alias": "divebars",
           "title": "Dive Bars"
          }
         ],
         "coordinates": {
          "latitude": -22.9139187,
          "longitude": -43.1826716
         },
         "display_phone": "+55 21 2252-3025",
         "distance": 613.0985588285689,
         "id": "MD46T733eqk4YqmwboOurw",
         "image_url": "https://s3-media2.fl.yelpcdn.com/bphoto/zNVlI23_rpWC4PuhjJUMtA/o.jpg",
         "is_closed": false,
         "location": {
          "address1": "Av. Gomes Freire, 822",
          "address2": "Lapa",
          "address3": "",
          "city": "Rio de Janeiro",
          "country": "BR",
          "display_address": [
           "Av. Gomes Freire, 822",
           "Lapa",
           "Rio de Janeiro - RJ 20231-014",
           "Brazil"
          ],
          "state": "RJ",
          "zip_code": "20231-014"
         },
         "name": "Boteco Carioquinha",
         "phone": "+552122523025",
         "price": "$$",
         "rating": 4,
         "review_count": 10,
         "transactions": [],
         "url": "https://www.yelp.com/biz/boteco-carioquinha-rio-de-janeiro?adjust_creative=BnUNDg1R0v5DesfMRRwF0Q&utm_campaign=yelp_api_v3&utm_medium=api_v3_business_search&utm_source=BnUNDg1R0v5DesfMRRwF0Q"
        },
        {
         "alias": "choperia-brazooka-rio-de-janeiro",
         "categories": [
          {
           "alias": "burgers",
           "title": "Burgers"
          },
          {
           "alias": "beerbar",
           "title": "Beer Bar"
          }
         ],
         "coordinates": {
          "latitude": -22.913046,
          "longitude": -43.1811254
         },
         "display_phone": "+55 21 2226-9691",
         "distance": 434.52733279153813,
         "id": "B1Z628TrpqzWt4Cwpbp1ew",
         "image_url": "https://s3-media4.fl.yelpcdn.com/bphoto/APZmMtxVnEO82OlLqDtaQg/o.jpg",
         "is_closed": false,
         "location": {
          "address1": "Av Mem Sá, 70",
          "address2": null,
          "address3": null,
          "city": "Rio de Janeiro",
          "country": "BR",
          "display_address": [
           "Av Mem Sá, 70",
           "Rio de Janeiro - RJ 22230-152",
           "Brazil"
          ],
          "state": "RJ",
          "zip_code": "22230-152"
         },
         "name": "Choperia Brazooka",
         "phone": "+552122269691",
         "price": "$$",
         "rating": 4,
         "review_count": 10,
         "transactions": [],
         "url": "https://www.yelp.com/biz/choperia-brazooka-rio-de-janeiro?adjust_creative=BnUNDg1R0v5DesfMRRwF0Q&utm_campaign=yelp_api_v3&utm_medium=api_v3_business_search&utm_source=BnUNDg1R0v5DesfMRRwF0Q"
        },
        {
         "alias": "osbar-rio-de-janeiro",
         "categories": [
          {
           "alias": "divebars",
           "title": "Dive Bars"
          },
          {
           "alias": "gastropubs",
           "title": "Gastropubs"
          }
         ],
         "coordinates": {
          "latitude": -22.9110107,
          "longitude": -43.1732864
         },
         "display_phone": "+55 21 2220-5910",
         "distance": 590.3608975267929,
         "id": "JHUPtnl8WLr0ijp1BDDu_Q",
         "image_url": "https://s3-media2.fl.yelpcdn.com/bphoto/TIYBO-83sppXbP5ECy4DdA/o.jpg",
         "is_closed": false,
         "location": {
          "address1": "Av. Calógeras, 16",
          "address2": "",
          "address3": "",
          "city": "Rio de Janeiro",
          "country": "BR",
          "display_address": [
           "Av. Calógeras, 16",
           "Rio de Janeiro - RJ 20030-070",
           "Brazil"
          ],
          "state": "RJ",
          "zip_code": "20030-070"
         },
         "name": "Osbar",
         "phone": "+552122205910",
         "price": "$$",
         "rating": 5,
         "review_count": 5,
         "transactions": [],
         "url": "https://www.yelp.com/biz/osbar-rio-de-janeiro?adjust_creative=BnUNDg1R0v5DesfMRRwF0Q&utm_campaign=yelp_api_v3&utm_medium=api_v3_business_search&utm_source=BnUNDg1R0v5DesfMRRwF0Q"
        }
       ],
       "region": {
        "center": {
         "latitude": -22.910029,
         "longitude": -43.178429
        }
       },
       "total": 383
      },
      "text/plain": [
       "<IPython.core.display.JSON object>"
      ]
     },
     "execution_count": 14,
     "metadata": {
      "application/json": {
       "expanded": false,
       "root": "root"
      }
     },
     "output_type": "execute_result"
    }
   ],
   "source": [
    "df_yelp2 = get_yelp_data2(city_bike_data,headers_yelp)\n",
    "JSON(df_yelp2)"
   ]
  },
  {
   "cell_type": "markdown",
   "metadata": {},
   "source": [
    "Put your parsed results into a DataFrame"
   ]
  },
  {
   "cell_type": "code",
   "execution_count": 12,
   "metadata": {
    "tags": []
   },
   "outputs": [
    {
     "data": {
      "text/html": [
       "<div>\n",
       "<style scoped>\n",
       "    .dataframe tbody tr th:only-of-type {\n",
       "        vertical-align: middle;\n",
       "    }\n",
       "\n",
       "    .dataframe tbody tr th {\n",
       "        vertical-align: top;\n",
       "    }\n",
       "\n",
       "    .dataframe thead th {\n",
       "        text-align: right;\n",
       "    }\n",
       "</style>\n",
       "<table border=\"1\" class=\"dataframe\">\n",
       "  <thead>\n",
       "    <tr style=\"text-align: right;\">\n",
       "      <th></th>\n",
       "      <th>yelp_id</th>\n",
       "      <th>bk_station_distance</th>\n",
       "      <th>latitude</th>\n",
       "      <th>longitude</th>\n",
       "      <th>name</th>\n",
       "      <th>category_name</th>\n",
       "      <th>price</th>\n",
       "      <th>rating</th>\n",
       "      <th>review_count</th>\n",
       "      <th>bk_station_uid</th>\n",
       "    </tr>\n",
       "  </thead>\n",
       "  <tbody>\n",
       "    <tr>\n",
       "      <th>0</th>\n",
       "      <td>oevr_FvYgxkOcpSxMA8boQ</td>\n",
       "      <td>538.276962</td>\n",
       "      <td>-22.905290</td>\n",
       "      <td>-43.178660</td>\n",
       "      <td>Confeitaria Colombo</td>\n",
       "      <td>None</td>\n",
       "      <td>$$</td>\n",
       "      <td>4.0</td>\n",
       "      <td>136</td>\n",
       "      <td>66.0</td>\n",
       "    </tr>\n",
       "    <tr>\n",
       "      <th>1</th>\n",
       "      <td>VgDFLuJPtEcAcmjwjmnzTg</td>\n",
       "      <td>509.160114</td>\n",
       "      <td>-22.913225</td>\n",
       "      <td>-43.181989</td>\n",
       "      <td>Carioca da Gema</td>\n",
       "      <td>None</td>\n",
       "      <td>$$</td>\n",
       "      <td>4.0</td>\n",
       "      <td>30</td>\n",
       "      <td>66.0</td>\n",
       "    </tr>\n",
       "    <tr>\n",
       "      <th>2</th>\n",
       "      <td>WYmZDSwt4D56OfxtNPqaVw</td>\n",
       "      <td>512.275716</td>\n",
       "      <td>-22.912967</td>\n",
       "      <td>-43.182281</td>\n",
       "      <td>Nova Capela</td>\n",
       "      <td>None</td>\n",
       "      <td>$$</td>\n",
       "      <td>4.0</td>\n",
       "      <td>26</td>\n",
       "      <td>66.0</td>\n",
       "    </tr>\n",
       "    <tr>\n",
       "      <th>3</th>\n",
       "      <td>Gf7m6a5PC4CwAtCCXC4qTQ</td>\n",
       "      <td>825.961440</td>\n",
       "      <td>-22.904146</td>\n",
       "      <td>-43.173505</td>\n",
       "      <td>Hachiko</td>\n",
       "      <td>None</td>\n",
       "      <td>$$$$</td>\n",
       "      <td>4.5</td>\n",
       "      <td>20</td>\n",
       "      <td>66.0</td>\n",
       "    </tr>\n",
       "    <tr>\n",
       "      <th>4</th>\n",
       "      <td>svVJSeh-wQ4r7h0HGa1xzw</td>\n",
       "      <td>535.677574</td>\n",
       "      <td>-22.905383</td>\n",
       "      <td>-43.177044</td>\n",
       "      <td>Veggie Govinda</td>\n",
       "      <td>None</td>\n",
       "      <td>$$</td>\n",
       "      <td>4.5</td>\n",
       "      <td>11</td>\n",
       "      <td>66.0</td>\n",
       "    </tr>\n",
       "    <tr>\n",
       "      <th>...</th>\n",
       "      <td>...</td>\n",
       "      <td>...</td>\n",
       "      <td>...</td>\n",
       "      <td>...</td>\n",
       "      <td>...</td>\n",
       "      <td>...</td>\n",
       "      <td>...</td>\n",
       "      <td>...</td>\n",
       "      <td>...</td>\n",
       "      <td>...</td>\n",
       "    </tr>\n",
       "    <tr>\n",
       "      <th>994</th>\n",
       "      <td>JvUAlYuTdy70hq3o0-Ac6w</td>\n",
       "      <td>902.043862</td>\n",
       "      <td>-22.981019</td>\n",
       "      <td>-43.206765</td>\n",
       "      <td>Rancho Português</td>\n",
       "      <td>None</td>\n",
       "      <td>$$</td>\n",
       "      <td>4.5</td>\n",
       "      <td>10</td>\n",
       "      <td>43.0</td>\n",
       "    </tr>\n",
       "    <tr>\n",
       "      <th>995</th>\n",
       "      <td>tlutqWIuALEsrW6-HzTo8A</td>\n",
       "      <td>1185.871376</td>\n",
       "      <td>-22.982263</td>\n",
       "      <td>-43.209248</td>\n",
       "      <td>La Carioca Cevicheria</td>\n",
       "      <td>None</td>\n",
       "      <td>$$</td>\n",
       "      <td>4.5</td>\n",
       "      <td>18</td>\n",
       "      <td>43.0</td>\n",
       "    </tr>\n",
       "    <tr>\n",
       "      <th>996</th>\n",
       "      <td>B_AMapV--QAZJdk-_Ig9og</td>\n",
       "      <td>1192.044831</td>\n",
       "      <td>-22.984280</td>\n",
       "      <td>-43.207069</td>\n",
       "      <td>Polis Sucos</td>\n",
       "      <td>None</td>\n",
       "      <td>$</td>\n",
       "      <td>4.5</td>\n",
       "      <td>13</td>\n",
       "      <td>43.0</td>\n",
       "    </tr>\n",
       "    <tr>\n",
       "      <th>997</th>\n",
       "      <td>7V5MDAPico90itBsUniZZw</td>\n",
       "      <td>1021.258588</td>\n",
       "      <td>-22.978112</td>\n",
       "      <td>-43.190548</td>\n",
       "      <td>Bibi Sucos</td>\n",
       "      <td>None</td>\n",
       "      <td>$$</td>\n",
       "      <td>3.5</td>\n",
       "      <td>26</td>\n",
       "      <td>43.0</td>\n",
       "    </tr>\n",
       "    <tr>\n",
       "      <th>998</th>\n",
       "      <td>T3FzBYsUi2glWyZJNaTweQ</td>\n",
       "      <td>1330.548412</td>\n",
       "      <td>-22.984163</td>\n",
       "      <td>-43.191024</td>\n",
       "      <td>Galetos Copa Rio</td>\n",
       "      <td>None</td>\n",
       "      <td>$$</td>\n",
       "      <td>4.0</td>\n",
       "      <td>23</td>\n",
       "      <td>43.0</td>\n",
       "    </tr>\n",
       "  </tbody>\n",
       "</table>\n",
       "<p>999 rows × 10 columns</p>\n",
       "</div>"
      ],
      "text/plain": [
       "                    yelp_id  bk_station_distance   latitude  longitude  \\\n",
       "0    oevr_FvYgxkOcpSxMA8boQ           538.276962 -22.905290 -43.178660   \n",
       "1    VgDFLuJPtEcAcmjwjmnzTg           509.160114 -22.913225 -43.181989   \n",
       "2    WYmZDSwt4D56OfxtNPqaVw           512.275716 -22.912967 -43.182281   \n",
       "3    Gf7m6a5PC4CwAtCCXC4qTQ           825.961440 -22.904146 -43.173505   \n",
       "4    svVJSeh-wQ4r7h0HGa1xzw           535.677574 -22.905383 -43.177044   \n",
       "..                      ...                  ...        ...        ...   \n",
       "994  JvUAlYuTdy70hq3o0-Ac6w           902.043862 -22.981019 -43.206765   \n",
       "995  tlutqWIuALEsrW6-HzTo8A          1185.871376 -22.982263 -43.209248   \n",
       "996  B_AMapV--QAZJdk-_Ig9og          1192.044831 -22.984280 -43.207069   \n",
       "997  7V5MDAPico90itBsUniZZw          1021.258588 -22.978112 -43.190548   \n",
       "998  T3FzBYsUi2glWyZJNaTweQ          1330.548412 -22.984163 -43.191024   \n",
       "\n",
       "                      name category_name price  rating  review_count  \\\n",
       "0      Confeitaria Colombo          None    $$     4.0           136   \n",
       "1          Carioca da Gema          None    $$     4.0            30   \n",
       "2              Nova Capela          None    $$     4.0            26   \n",
       "3                  Hachiko          None  $$$$     4.5            20   \n",
       "4           Veggie Govinda          None    $$     4.5            11   \n",
       "..                     ...           ...   ...     ...           ...   \n",
       "994       Rancho Português          None    $$     4.5            10   \n",
       "995  La Carioca Cevicheria          None    $$     4.5            18   \n",
       "996            Polis Sucos          None     $     4.5            13   \n",
       "997             Bibi Sucos          None    $$     3.5            26   \n",
       "998       Galetos Copa Rio          None    $$     4.0            23   \n",
       "\n",
       "     bk_station_uid  \n",
       "0              66.0  \n",
       "1              66.0  \n",
       "2              66.0  \n",
       "3              66.0  \n",
       "4              66.0  \n",
       "..              ...  \n",
       "994            43.0  \n",
       "995            43.0  \n",
       "996            43.0  \n",
       "997            43.0  \n",
       "998            43.0  \n",
       "\n",
       "[999 rows x 10 columns]"
      ]
     },
     "execution_count": 12,
     "metadata": {},
     "output_type": "execute_result"
    }
   ],
   "source": [
    "df_yelp"
   ]
  },
  {
   "cell_type": "markdown",
   "metadata": {},
   "source": [
    "# Comparing Results"
   ]
  },
  {
   "cell_type": "markdown",
   "metadata": {},
   "source": [
    "Which API provided you with more complete data? Provide an explanation. "
   ]
  },
  {
   "cell_type": "markdown",
   "metadata": {},
   "source": []
  },
  {
   "cell_type": "markdown",
   "metadata": {},
   "source": [
    "Get the top 10 restaurants according to their rating"
   ]
  },
  {
   "cell_type": "code",
   "execution_count": null,
   "metadata": {},
   "outputs": [],
   "source": []
  }
 ],
 "metadata": {
  "kernelspec": {
   "display_name": "THE_ONE",
   "language": "python",
   "name": "the_one"
  },
  "language_info": {
   "codemirror_mode": {
    "name": "ipython",
    "version": 3
   },
   "file_extension": ".py",
   "mimetype": "text/x-python",
   "name": "python",
   "nbconvert_exporter": "python",
   "pygments_lexer": "ipython3",
   "version": "3.10.9"
  },
  "vscode": {
   "interpreter": {
    "hash": "31f2aee4e71d21fbe5cf8b01ff0e069b9275f58929596ceb00d14d90e3e16cd6"
   }
  }
 },
 "nbformat": 4,
 "nbformat_minor": 4
}
