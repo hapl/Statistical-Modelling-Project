{
 "cells": [
  {
   "cell_type": "markdown",
   "metadata": {},
   "source": [
    "# CityBikes"
   ]
  },
  {
   "cell_type": "markdown",
   "metadata": {},
   "source": [
    "Send a request to CityBikes for the city of your choice. "
   ]
  },
  {
   "cell_type": "code",
   "execution_count": 52,
   "metadata": {},
   "outputs": [],
   "source": [
    "#Defining packages to use\n",
    "\n",
    "import requests as rq\n",
    "import pandas as pd\n",
    "import json\n",
    "from IPython.display import JSON "
   ]
  },
  {
   "cell_type": "code",
   "execution_count": 53,
   "metadata": {},
   "outputs": [],
   "source": [
    "#get network data\n",
    "city_bike_networks = rq.get(\"http://api.citybik.es/v2/networks\").json()\n",
    "\n",
    "##JSON(city_bike_networks) -- Used to check JSON internally during coding\n",
    "\n",
    "#I will use Los Angeles, USA. I checked the json and found the city code is 131\n",
    "#city_bike_networks['networks'][146]\n",
    "network_id = city_bike_networks['networks'][131]['id']"
   ]
  },
  {
   "cell_type": "code",
   "execution_count": 54,
   "metadata": {},
   "outputs": [],
   "source": [
    "#get data for network_id\n",
    "##Get network details\n",
    "network_json =  \"http://api.citybik.es/v2/networks/\"+network_id\n",
    "##Get stations data into list\n",
    "stations_data = pd.read_json(network_json)['network']['stations']"
   ]
  },
  {
   "cell_type": "markdown",
   "metadata": {},
   "source": [
    "Parse through the response to get the details you want for the bike stations in that city (latitude, longitude, number of bikes). "
   ]
  },
  {
   "cell_type": "code",
   "execution_count": 55,
   "metadata": {},
   "outputs": [],
   "source": [
    "#Organize data\n",
    "def orginize_data(data):\n",
    "    city_bike_info = []\n",
    "    for sd in data:\n",
    "    #Orginize data\n",
    "        city_bike_info.append({\n",
    "        'uid':          sd['extra']['uid'],\n",
    "        'latitude':     sd['latitude'],\n",
    "        'longitude':    sd['longitude'],\n",
    "        'free_bikes':   sd['free_bikes']\n",
    "        })\n",
    "    return city_bike_info\n",
    "    "
   ]
  },
  {
   "cell_type": "code",
   "execution_count": 56,
   "metadata": {},
   "outputs": [],
   "source": [
    "#call function to organize json\n",
    "stations_info = orginize_data(stations_data)"
   ]
  },
  {
   "cell_type": "markdown",
   "metadata": {},
   "source": [
    "Put your parsed results into a DataFrame."
   ]
  },
  {
   "cell_type": "code",
   "execution_count": 57,
   "metadata": {},
   "outputs": [
    {
     "data": {
      "text/html": [
       "<div>\n",
       "<style scoped>\n",
       "    .dataframe tbody tr th:only-of-type {\n",
       "        vertical-align: middle;\n",
       "    }\n",
       "\n",
       "    .dataframe tbody tr th {\n",
       "        vertical-align: top;\n",
       "    }\n",
       "\n",
       "    .dataframe thead th {\n",
       "        text-align: right;\n",
       "    }\n",
       "</style>\n",
       "<table border=\"1\" class=\"dataframe\">\n",
       "  <thead>\n",
       "    <tr style=\"text-align: right;\">\n",
       "      <th></th>\n",
       "      <th>uid</th>\n",
       "      <th>latitude</th>\n",
       "      <th>longitude</th>\n",
       "      <th>free_bikes</th>\n",
       "    </tr>\n",
       "  </thead>\n",
       "  <tbody>\n",
       "    <tr>\n",
       "      <th>0</th>\n",
       "      <td>bcycle_lametro_3037</td>\n",
       "      <td>34.03480</td>\n",
       "      <td>-118.23128</td>\n",
       "      <td>10</td>\n",
       "    </tr>\n",
       "    <tr>\n",
       "      <th>1</th>\n",
       "      <td>bcycle_lametro_3036</td>\n",
       "      <td>34.03919</td>\n",
       "      <td>-118.23253</td>\n",
       "      <td>9</td>\n",
       "    </tr>\n",
       "    <tr>\n",
       "      <th>2</th>\n",
       "      <td>bcycle_lametro_3032</td>\n",
       "      <td>34.04989</td>\n",
       "      <td>-118.25588</td>\n",
       "      <td>8</td>\n",
       "    </tr>\n",
       "    <tr>\n",
       "      <th>3</th>\n",
       "      <td>bcycle_lametro_3024</td>\n",
       "      <td>34.05772</td>\n",
       "      <td>-118.24897</td>\n",
       "      <td>7</td>\n",
       "    </tr>\n",
       "    <tr>\n",
       "      <th>4</th>\n",
       "      <td>bcycle_lametro_3025</td>\n",
       "      <td>34.03286</td>\n",
       "      <td>-118.26808</td>\n",
       "      <td>8</td>\n",
       "    </tr>\n",
       "    <tr>\n",
       "      <th>...</th>\n",
       "      <td>...</td>\n",
       "      <td>...</td>\n",
       "      <td>...</td>\n",
       "      <td>...</td>\n",
       "    </tr>\n",
       "    <tr>\n",
       "      <th>217</th>\n",
       "      <td>bcycle_lametro_3034</td>\n",
       "      <td>34.04206</td>\n",
       "      <td>-118.26338</td>\n",
       "      <td>6</td>\n",
       "    </tr>\n",
       "    <tr>\n",
       "      <th>218</th>\n",
       "      <td>bcycle_lametro_4563</td>\n",
       "      <td>34.01745</td>\n",
       "      <td>-118.40957</td>\n",
       "      <td>5</td>\n",
       "    </tr>\n",
       "    <tr>\n",
       "      <th>219</th>\n",
       "      <td>bcycle_lametro_3033</td>\n",
       "      <td>34.04099</td>\n",
       "      <td>-118.25580</td>\n",
       "      <td>8</td>\n",
       "    </tr>\n",
       "    <tr>\n",
       "      <th>220</th>\n",
       "      <td>bcycle_lametro_4643</td>\n",
       "      <td>34.07262</td>\n",
       "      <td>-118.44944</td>\n",
       "      <td>13</td>\n",
       "    </tr>\n",
       "    <tr>\n",
       "      <th>221</th>\n",
       "      <td>bcycle_lametro_4644</td>\n",
       "      <td>34.06186</td>\n",
       "      <td>-118.45002</td>\n",
       "      <td>8</td>\n",
       "    </tr>\n",
       "  </tbody>\n",
       "</table>\n",
       "<p>222 rows × 4 columns</p>\n",
       "</div>"
      ],
      "text/plain": [
       "                     uid  latitude  longitude  free_bikes\n",
       "0    bcycle_lametro_3037  34.03480 -118.23128          10\n",
       "1    bcycle_lametro_3036  34.03919 -118.23253           9\n",
       "2    bcycle_lametro_3032  34.04989 -118.25588           8\n",
       "3    bcycle_lametro_3024  34.05772 -118.24897           7\n",
       "4    bcycle_lametro_3025  34.03286 -118.26808           8\n",
       "..                   ...       ...        ...         ...\n",
       "217  bcycle_lametro_3034  34.04206 -118.26338           6\n",
       "218  bcycle_lametro_4563  34.01745 -118.40957           5\n",
       "219  bcycle_lametro_3033  34.04099 -118.25580           8\n",
       "220  bcycle_lametro_4643  34.07262 -118.44944          13\n",
       "221  bcycle_lametro_4644  34.06186 -118.45002           8\n",
       "\n",
       "[222 rows x 4 columns]"
      ]
     },
     "metadata": {},
     "output_type": "display_data"
    }
   ],
   "source": [
    "#Results in dataframe\n",
    "df = pd.DataFrame(stations_info)\n",
    "\n",
    "#Save results into csv\n",
    "df.to_csv ('data/cityBikeData.csv', index = False, sep = ',')\n",
    "\n",
    "#Show DataFrame\n",
    "display(df)"
   ]
  }
 ],
 "metadata": {
  "kernelspec": {
   "display_name": "THE_ONE",
   "language": "python",
   "name": "the_one"
  },
  "language_info": {
   "codemirror_mode": {
    "name": "ipython",
    "version": 3
   },
   "file_extension": ".py",
   "mimetype": "text/x-python",
   "name": "python",
   "nbconvert_exporter": "python",
   "pygments_lexer": "ipython3",
   "version": "3.10.9"
  },
  "vscode": {
   "interpreter": {
    "hash": "31f2aee4e71d21fbe5cf8b01ff0e069b9275f58929596ceb00d14d90e3e16cd6"
   }
  }
 },
 "nbformat": 4,
 "nbformat_minor": 4
}
